{
 "cells": [
  {
   "cell_type": "markdown",
   "metadata": {},
   "source": [
    "# Busca de Produtos no Mercado Livre e Criação de Dataset\n",
    "\n",
    "Este notebook tem como objetivo buscar informações de produtos no Mercado Livre utilizando a API pública, \n",
    "processar esses dados e criar um dataset (arquivo CSV) com as informações relevantes."
   ]
  },
  {
   "cell_type": "code",
   "execution_count": null,
   "metadata": {},
   "outputs": [],
   "source": [
    "import requests\n",
    "import pandas as pd"
   ]
  },
  {
   "cell_type": "markdown",
   "metadata": {},
   "source": [
    "## Configurações\n",
    "\n",
    "Define as variáveis de configuração, como token de acesso, URLs da API e termos de pesquisa."
   ]
  },
  {
   "cell_type": "code",
   "execution_count": null,
   "metadata": {},
   "outputs": [],
   "source": [
    "ACCESS_TOKEN = 'APP_USR-SEU_TOKEN'\n",
    "BASE_URL_SEARCH = 'https://api.mercadolibre.com/sites/MLB/search?q='\n",
    "BASE_URL_ITEM = 'https://api.mercadolibre.com/items/'\n",
    "HEADERS = {'Authorization': f'Bearer {ACCESS_TOKEN}'}\n",
    "SEARCH_TERMS = [\n",
    "    'Google Chromecast',\n",
    "    'Amazon Fire TV Stick',\n",
    "    'Roku Streaming Stick',\n",
    "    'Xiaomi Mi Box S',\n",
    "    'Apple TV 4K'\n",
    "]"
   ]
  },
  {
   "cell_type": "markdown",
   "metadata": {},
   "source": [
    "## Função para buscar resultados de pesquisa\n",
    "\n",
    "Esta função busca os resultados da pesquisa para um determinado termo, utilizando a API de busca do Mercado Livre."
   ]
  },
  {
   "cell_type": "code",
   "execution_count": 3,
   "metadata": {},
   "outputs": [],
   "source": [
    "def fetch_search_results(search_term):\n",
    "    offset = 0\n",
    "    total_results = 0\n",
    "    search_results = []\n",
    "\n",
    "    while offset <= total_results:\n",
    "        url = f\"{BASE_URL_SEARCH}{search_term.lower().replace(' ', '%20')}&offset={offset}\"\n",
    "        response = requests.get(url, headers=HEADERS)\n",
    "        data = response.json()\n",
    "        total_results = data['paging']['total']\n",
    "        limit = data['paging']['limit']\n",
    "        offset += limit\n",
    "        search_results.append(data)\n",
    "    return search_results"
   ]
  },
  {
   "cell_type": "markdown",
   "metadata": {},
   "source": [
    "## Função para extrair IDs dos itens\n",
    "\n",
    "Esta função extrai os IDs dos itens dos resultados da pesquisa."
   ]
  },
  {
   "cell_type": "code",
   "execution_count": 4,
   "metadata": {},
   "outputs": [],
   "source": [
    "def extract_item_ids(search_results):\n",
    "    item_ids = []\n",
    "    for result in search_results:\n",
    "        for item in result['results']:\n",
    "            item_ids.append(item['id'])\n",
    "    return item_ids"
   ]
  },
  {
   "cell_type": "markdown",
   "metadata": {},
   "source": [
    "## Função para buscar detalhes dos itens\n",
    "\n",
    "Esta função busca os detalhes dos itens utilizando seus IDs, através da API de itens do Mercado Livre.\n"
   ]
  },
  {
   "cell_type": "code",
   "execution_count": 5,
   "metadata": {},
   "outputs": [],
   "source": [
    "def fetch_item_details(item_ids):\n",
    "    item_details = []\n",
    "    for item_id in item_ids:\n",
    "        url = f\"{BASE_URL_ITEM}{item_id}\"\n",
    "        response = requests.get(url, headers=HEADERS)\n",
    "        item_details.append(response.json())\n",
    "    return item_details"
   ]
  },
  {
   "cell_type": "markdown",
   "metadata": {},
   "source": [
    "## Função para obter todas as chaves de atributos\n",
    "\n",
    "Esta função obtém todas as chaves de atributos possíveis dos detalhes dos itens, para padronização.\n"
   ]
  },
  {
   "cell_type": "code",
   "execution_count": 6,
   "metadata": {},
   "outputs": [],
   "source": [
    "def get_all_attribute_keys(item_details):\n",
    "    all_attributes = set()\n",
    "    for item in item_details:\n",
    "        if \"attributes\" in item:\n",
    "            for attribute in item[\"attributes\"]:\n",
    "                attribute_id = attribute.get(\"id\")\n",
    "                if attribute_id:\n",
    "                    all_attributes.add(attribute_id.lower())\n",
    "    return all_attributes"
   ]
  },
  {
   "cell_type": "markdown",
   "metadata": {},
   "source": [
    "## Função para achatar os detalhes dos itens\n",
    "\n",
    "Esta função achata os detalhes dos itens, movendo os atributos para o nível superior e garantindo que todas as chaves de atributo possíveis estejam presentes."
   ]
  },
  {
   "cell_type": "code",
   "execution_count": 7,
   "metadata": {},
   "outputs": [],
   "source": [
    "def flatten_item_details(item_details, all_attributes):\n",
    "    flattened_details = []\n",
    "    for item in item_details:\n",
    "        flattened_item = item.copy()\n",
    "        if \"attributes\" in flattened_item:\n",
    "            for attribute in flattened_item[\"attributes\"]:\n",
    "                attribute_id = attribute.get(\"id\")\n",
    "                attribute_value = attribute.get(\"value_name\")\n",
    "                if attribute_id:\n",
    "                    flattened_item[attribute_id.lower()] = attribute_value\n",
    "\n",
    "        for attribute_key in all_attributes:\n",
    "            if attribute_key not in flattened_item:\n",
    "                flattened_item[attribute_key] = None\n",
    "        flattened_details.append(flattened_item)\n",
    "    return flattened_details"
   ]
  },
  {
   "cell_type": "markdown",
   "metadata": {},
   "source": [
    "## Função para selecionar e ordenar colunas\n",
    "\n",
    "Esta função seleciona e ordena as colunas dos detalhes dos itens achatados."
   ]
  },
  {
   "cell_type": "code",
   "execution_count": 8,
   "metadata": {},
   "outputs": [],
   "source": [
    "def select_and_order_columns(flattened_details, selected_columns):\n",
    "    final_details = []\n",
    "    for item in flattened_details:\n",
    "        final_item = {k: item[k] for k in item if k in selected_columns}\n",
    "        final_details.append(final_item)\n",
    "    return final_details"
   ]
  },
  {
   "cell_type": "markdown",
   "metadata": {},
   "source": [
    "## Lista de colunas selecionadas\n",
    "\n",
    "Define a lista de colunas que serão incluídas no dataset final."
   ]
  },
  {
   "cell_type": "code",
   "execution_count": 9,
   "metadata": {},
   "outputs": [],
   "source": [
    "SELECTED_COLUMNS = [\n",
    "    \"id\", \"site_id\", \"title\", \"seller_id\", \"category_id\",\n",
    "    \"official_store_id\", \"price\", \"base_price\", \"original_price\",\n",
    "    \"currency_id\", \"initial_quantity\", \"buying_mode\", \"listing_type_id\",\n",
    "    \"condition\", \"permalink\", \"accepts_mercadopago\", \"shipping_mode\",\n",
    "    \"free_shipping\", \"shipping_logistic_type\", \"international_delivery_mode\",\n",
    "    \"status\", \"warranty\", \"date_created\", \"last_updated\",\n",
    "    \"alphanumeric_model\", \"anatel_homologation_number\", \"audio_and_video_interfaces\",\n",
    "    \"audio_quality\", \"brand\", \"color\", \"compatible_applications\", \"cpu\",\n",
    "    \"device_format\", \"device_operating_voltage\", \"frequencies\", \"generation\",\n",
    "    \"graphics_processor\", \"height\", \"includes_hdmi_cable\",\n",
    "    \"integrated_voice_assistants\", \"is_kit\", \"item_condition\", \"language_options\",\n",
    "    \"length\", \"main_color\", \"manufacturer\", \"max_video_resolution\",\n",
    "    \"min_operating_systems_required\", \"model\", \"mpn\", \"os_name\", \"package_height\",\n",
    "    \"package_length\", \"package_weight\", \"package_width\", \"ports_and_connectors_types\",\n",
    "    \"product_features\", \"recommended_devices\", \"seller_sku\", \"shipment_packing\",\n",
    "    \"streaming_technologies\", \"weight\", \"width\", \"with_bluetooth\",\n",
    "    \"with_integrated_voice_assistants\", \"with_wi_fi\", \"wi_fi_standards\",\n",
    "    \"is_dust_resistant\", \"ram_memory\", \n",
    "    \"product_data_source\", \"includes_charger\"\n",
    "]"
   ]
  },
  {
   "cell_type": "markdown",
   "metadata": {},
   "source": [
    "## Execução e Processamento dos Dados\n",
    "\n",
    "Este bloco executa todas as etapas de busca, processamento e criação do dataset."
   ]
  },
  {
   "cell_type": "code",
   "execution_count": 10,
   "metadata": {},
   "outputs": [],
   "source": [
    "all_search_results = []\n",
    "for term in SEARCH_TERMS:\n",
    "    all_search_results.extend(fetch_search_results(term))\n",
    "\n",
    "all_item_ids = extract_item_ids(all_search_results)\n",
    "all_item_details = fetch_item_details(all_item_ids)\n",
    "all_attribute_keys = get_all_attribute_keys(all_item_details)\n",
    "flattened_item_details = flatten_item_details(all_item_details, all_attribute_keys)\n",
    "final_item_details = select_and_order_columns(flattened_item_details, SELECTED_COLUMNS)\n",
    "df_final = pd.DataFrame(final_item_details)\n",
    "df_final.to_csv('dataset.csv', index=False)"
   ]
  }
 ],
 "metadata": {
  "kernelspec": {
   "display_name": "Python 3",
   "language": "python",
   "name": "python3"
  },
  "language_info": {
   "codemirror_mode": {
    "name": "ipython",
    "version": 3
   },
   "file_extension": ".py",
   "mimetype": "text/x-python",
   "name": "python",
   "nbconvert_exporter": "python",
   "pygments_lexer": "ipython3",
   "version": "3.13.2"
  }
 },
 "nbformat": 4,
 "nbformat_minor": 2
}
